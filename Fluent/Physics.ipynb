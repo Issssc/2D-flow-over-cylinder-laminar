{
 "cells": [
  {
   "cell_type": "markdown",
   "metadata": {},
   "source": [
    "# CFD Problem's Physics & Theory\n",
    "\n",
    "**In developing CFD simulation for a fluid mechanic problem understanding the general physics and fundamental theory of the problem is extremely important. This knowledge would provide users the ability to make logical decision about the geometry of CFD domain, choice of proper boundary conditions and numerical models for the CFD simulation. Furthermore, user will have a general big picture on the expected outcome of simulation. These knowledges and abilities form the foundation for a successful implementation and validation of the CFD simulation.**\n",
    "\n",
    "**In other words understanding physics and theory of problem before developing a CFD simulation can be thought of turning on a flash light before taking any step in a completely dark room. Hence, let's review the fundamental physics and theory behind the problem of \"[insert the topic of problem here]\" as the first step for development and validation of CFD simulation for this problem of interest:**\n"
   ]
  },
  {
   "cell_type": "markdown",
   "metadata": {},
   "source": [
    "## Control volume analysis - conservation of mass\n",
    "\n",
    "One of the key features for the flow over a cylinder is the pattern of the flow. In other words, we need to determine the *stream function* of the flow. To obtain the stream function of the flow, we need to apply Control Volume (CV) analysis to a certain area around the cylinder and derive from the conservation of mass.\n",
    "\n",
    "The general form of mass conservation:\n",
    "\n",
    "$$\\frac{\\partial}{\\partial t} \\int_{CV} \\rho~dV + \\int_{CS} \\mathbf{n}~.~\\rho \\mathbf{V}~dA = 0 .$$\n",
    "\n",
    "Since the flow is steady and incompressible the first term in the above equation becomes zero. While we are dealing with a geometry with only two dimentions, the second term, mass flux integral term, can be reduced as follows:\n",
    "\n",
    "$$ \n",
    "\\frac{\\partial u}{\\partial x} + \\frac{\\partial v}{\\partial y} = 0 ,\n",
    "$$\n",
    "\n",
    "where $u$ is the horizontally disturbed velocity and $v$ are the verticle velocity component of the flow. In this equation both $u=u(y)$ and $v=v(x)$ are the unknowns (i.e. one equation versus two unknowns), which means it's theoradically impossible to solve. Thus, we define the *stream function* $\\psi = (u,v)$ which relates to the velocities in both directions as:\n",
    "\n",
    "$$u=\\frac{\\partial \\psi}{\\partial y},\n",
    "v=\\frac{\\partial \\psi}{\\partial x}$$\n",
    "\n",
    "Thus, whenever the velocity components are defined in terms of the *stream function*, the conservation of mass will be satisfied. By using the lines along which \\psi is constant, which are called the *streamlines*, we can easily visualize the pattern of the flow over the cylinder.\n",
    "\n",
    "However, we still have no idea how $\\psi=(u,v)$ is defined as the flow pattern changes over the cylinder. In this way, numerical solutions for the *stream function* as well as the velocity components can help us better understand the flow pattern."
   ]
  },
  {
   "cell_type": "markdown",
   "metadata": {},
   "source": [
    "## Conservation of momentum - determine drag force\n",
    "\n",
    "Another critical components of understanding the flow over a cylinder is the force acting on the cylinder. As a cylinder is symetric perpendicular to the streamwise direction, the lift force over the cylinder is always $0$. To obtain the drag force acting on the cylinder, one can consider the conservation of momentum in streamwise direction. The general form of conservation of momentum equation states:\n",
    "\n",
    "$$\n",
    "\\sum \\mathbf{F_v} = \n",
    "\\frac{\\partial}{\\partial t} \\int_CV \\rho \\mathbf{V} dV +\n",
    "\\int_CS (\\mathbf{n}~.~\\rho \\mathbf{V}) \\mathbf{V} dA .\n",
    "$$\n",
    "\n",
    "By applying the equation above to an infinitesimal CV $\\delta V$, which initially bounds the mass $\\delta m$, we can obtain the defferential form of the linear monmentum equation:\n",
    "\n",
    "$$ \\delta \\mathbf{F} = \\frac{D( \\mathbf{V} \\delta m)}{Dt} $$\n",
    "\n",
    "Where $\\delta \\mathbf{F}$is the resultant force acting on $\\delta m$. As we are dealing with the whole system, $\\delta m$ can be considered as a constant, thus:\n",
    "\n",
    "$$ \\delta \\mathbf{F} = \\delta m \\frac{D \\mathbf{V} }{Dt} = \\delta m \\mathbf{a} $$\n",
    "\n",
    "Which is exactly Newton's second law. This expression for conservation of momentum connects the forces acting on the cylinder to the velocity of the flow. Since the drag is always acting in the horizontal direction, it can be calculated once we understand the flow pattern over the cylinder:\n",
    "\n",
    "$$\\delta \\mathbf{F_D} = \\rho \\delta V\n",
    "(\\frac{\\partial u}{\\partial t}\n",
    "+ u\\frac{\\partial u}{\\partial x}\n",
    "+ v\\frac{\\partial u}{\\partial y})$$\n",
    "\n",
    "However, as is previously described, the flow pattern can never be theoradically solved, we can only approach the drag force with some numerical solutions."
   ]
  },
  {
   "cell_type": "markdown",
   "metadata": {},
   "source": [
    "## Dimentional Analysis\n",
    "\n",
    "Although it is theoradically impossible to solve for a drag force over an object, one can still find out laws describing the drag force with dimentional analysis. Given a certain cylinder immersed in a flow of a constant velocity $V$, the drag force acting on the cylinder can be described as a function of all the variables involved:\n",
    "\n",
    "$$ \\mathbf{F_D} = f (d,\\mu,\\rho,V) $$\n",
    "\n",
    "Where $d$ is the dimention of the cylinder, $\\mu$ and $\\rho$ are the viscousity and dencity of the fluid. As there are 5 variables and 3 reference dimentions(i.e., $M, L, T$), 2 $\\Pi$ terms will be needed to finish the dimentional analysis:\n",
    "\n",
    "$$\n",
    "\\Pi_1 = \\frac{\\rho V d}{\\mu} = Re\n",
    "$$\n",
    "\n",
    "$$\n",
    "\\Pi_2 = \\frac{\\mathbf{F_D}}{d^2 \\rho V^2 }\n",
    "$$\n",
    "\n",
    "Thus,\n",
    "\n",
    "$$ \\phi(Re) = \\frac{\\mathbf{F_D}}{d^2 \\rho V^2 }  $$\n",
    "\n",
    "The euqation above connects $\\mathbf{F_D}$, $d$, $\\rho$ and $V$ to the *Reynolds number*, which is a key parameter describing the flow pattern. As $d^2$ has the same dinmention as the area $A$, the equation above can be expressed as:\n",
    "\n",
    "$$ C_D(Re) = \\frac{2\\mathbf{F_D}}{A \\rho V^2 }  $$\n",
    "\n",
    "Which defines the *drag coefficient* that helps us to study drag force in a much easier approach.\n"
   ]
  },
  {
   "cell_type": "code",
   "execution_count": null,
   "metadata": {
    "collapsed": true
   },
   "outputs": [],
   "source": []
  }
 ],
 "metadata": {
  "kernelspec": {
   "display_name": "Python 3",
   "language": "python",
   "name": "python3"
  },
  "language_info": {
   "codemirror_mode": {
    "name": "ipython",
    "version": 3
   },
   "file_extension": ".py",
   "mimetype": "text/x-python",
   "name": "python",
   "nbconvert_exporter": "python",
   "pygments_lexer": "ipython3",
   "version": "3.5.1"
  }
 },
 "nbformat": 4,
 "nbformat_minor": 0
}
